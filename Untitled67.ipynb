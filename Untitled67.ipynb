{
 "cells": [
  {
   "cell_type": "code",
   "execution_count": 1,
   "id": "7ed36466-4be5-4508-a5c8-b86af8938c94",
   "metadata": {},
   "outputs": [
    {
     "name": "stdout",
     "output_type": "stream",
     "text": [
      "Prediction: Can players play? Yes\n"
     ]
    },
    {
     "name": "stderr",
     "output_type": "stream",
     "text": [
      "C:\\Users\\SED\\anaconda3\\Lib\\site-packages\\sklearn\\base.py:439: UserWarning: X does not have valid feature names, but CategoricalNB was fitted with feature names\n",
      "  warnings.warn(\n"
     ]
    }
   ],
   "source": [
    "import pandas as pd\n",
    "from sklearn.naive_bayes import CategoricalNB\n",
    "\n",
    "data = {\n",
    "    'Outlook': ['Sunny', 'Sunny', 'Overcast', 'Rainy', 'Rainy', 'Rainy', 'Overcast', \n",
    "                'Sunny', 'Sunny', 'Rainy', 'Sunny', 'Overcast', 'Overcast', 'Rainy'],\n",
    "    'Temperature': ['Hot', 'Hot', 'Hot', 'Mild', 'Cool', 'Cool', 'Cool', \n",
    "                    'Mild', 'Cool', 'Mild', 'Mild', 'Mild', 'Hot', 'Mild'],\n",
    "    'Play': ['No', 'No', 'Yes', 'Yes', 'Yes', 'No', 'Yes', \n",
    "             'No', 'Yes', 'Yes', 'Yes', 'Yes', 'Yes', 'No']\n",
    "}\n",
    "\n",
    "df = pd.DataFrame(data)\n",
    "\n",
    "df['Outlook'] = df['Outlook'].astype('category').cat.codes\n",
    "df['Temperature'] = df['Temperature'].astype('category').cat.codes\n",
    "df['Play'] = df['Play'].map({'No': 0, 'Yes': 1})\n",
    "\n",
    "X = df[['Outlook', 'Temperature']]\n",
    "y = df['Play']\n",
    "\n",
    "model = CategoricalNB()\n",
    "model.fit(X, y)\n",
    "\n",
    "prediction = model.predict([[0, 1]]) \n",
    "\n",
    "result = \"Yes\" if prediction[0] == 1 else \"No\"\n",
    "print(f\"Prediction: Can players play? {result}\")\n"
   ]
  },
  {
   "cell_type": "code",
   "execution_count": 2,
   "id": "298477e6-2d0c-4c08-96c6-2d37bfbd8351",
   "metadata": {},
   "outputs": [
    {
     "name": "stdout",
     "output_type": "stream",
     "text": [
      "Prediction: Will the person buy a computer? Yes\n"
     ]
    },
    {
     "name": "stderr",
     "output_type": "stream",
     "text": [
      "C:\\Users\\SED\\anaconda3\\Lib\\site-packages\\sklearn\\base.py:439: UserWarning: X does not have valid feature names, but CategoricalNB was fitted with feature names\n",
      "  warnings.warn(\n"
     ]
    }
   ],
   "source": [
    "import pandas as pd\n",
    "from sklearn.naive_bayes import CategoricalNB\n",
    "\n",
    "data = {\n",
    "    'age': ['youth', 'youth', 'middle_aged', 'senior', 'senior', 'senior', \n",
    "            'middle_aged', 'youth', 'youth', 'senior', 'youth', \n",
    "            'middle_aged', 'middle_aged', 'senior'],\n",
    "    'income': ['high', 'high', 'high', 'medium', 'low', 'low', \n",
    "               'low', 'medium', 'low', 'medium', 'medium', \n",
    "               'medium', 'high', 'medium'],\n",
    "    'student': ['no', 'no', 'no', 'no', 'yes', 'yes', \n",
    "                'yes', 'no', 'yes', 'yes', 'yes', \n",
    "                'no', 'yes', 'no'],\n",
    "    'credit_rating': ['fair', 'excellent', 'fair', 'fair', 'fair', 'excellent', \n",
    "                      'excellent', 'fair', 'fair', 'fair', 'excellent', \n",
    "                      'excellent', 'fair', 'excellent'],\n",
    "    'buys_computer': ['no', 'no', 'yes', 'yes', 'yes', 'no', \n",
    "                      'yes', 'no', 'yes', 'yes', 'yes', \n",
    "                      'yes', 'yes', 'no']\n",
    "}\n",
    "\n",
    "df = pd.DataFrame(data)\n",
    "\n",
    "df['age'] = df['age'].astype('category').cat.codes\n",
    "df['income'] = df['income'].astype('category').cat.codes\n",
    "df['student'] = df['student'].astype('category').cat.codes\n",
    "df['credit_rating'] = df['credit_rating'].astype('category').cat.codes\n",
    "df['buys_computer'] = df['buys_computer'].map({'no': 0, 'yes': 1})\n",
    "\n",
    "X = df[['age', 'income', 'student', 'credit_rating']]\n",
    "y = df['buys_computer']\n",
    "\n",
    "model = CategoricalNB()\n",
    "model.fit(X, y)\n",
    "\n",
    "prediction = model.predict([[2, 1, 1, 0]])\n",
    "\n",
    "result = \"Yes\" if prediction[0] == 1 else \"No\"\n",
    "print(f\"Prediction: Will the person buy a computer? {result}\")\n"
   ]
  },
  {
   "cell_type": "code",
   "execution_count": 3,
   "id": "c4a28b99-a874-4448-8c70-7e3df171b329",
   "metadata": {},
   "outputs": [
    {
     "name": "stdout",
     "output_type": "stream",
     "text": [
      "Prediction: Will the product be purchased? No\n",
      "\n",
      "Confusion Matrix:\n",
      "[[5 0]\n",
      " [1 4]]\n",
      "\n",
      "Classification Report:\n",
      "               precision    recall  f1-score   support\n",
      "\n",
      "Not Purchased       0.83      1.00      0.91         5\n",
      "    Purchased       1.00      0.80      0.89         5\n",
      "\n",
      "     accuracy                           0.90        10\n",
      "    macro avg       0.92      0.90      0.90        10\n",
      " weighted avg       0.92      0.90      0.90        10\n",
      "\n"
     ]
    },
    {
     "name": "stderr",
     "output_type": "stream",
     "text": [
      "C:\\Users\\SED\\anaconda3\\Lib\\site-packages\\sklearn\\base.py:439: UserWarning: X does not have valid feature names, but CategoricalNB was fitted with feature names\n",
      "  warnings.warn(\n"
     ]
    }
   ],
   "source": [
    "import pandas as pd\n",
    "from sklearn.naive_bayes import CategoricalNB\n",
    "from sklearn.metrics import confusion_matrix, classification_report\n",
    "\n",
    "data = {\n",
    "    'Product': ['Vacuum Cleaner', 'Coffee Maker', 'Air Fryer', 'Blender', 'Microwave Oven', \n",
    "                'Electric Kettle', 'Toaster', 'Hair Dryer', 'Rice Cooker', 'Juicer'],\n",
    "    'Price_Level': ['High', 'Medium', 'Medium', 'Low', 'High', \n",
    "                    'Low', 'Low', 'Low', 'Medium', 'Low'],\n",
    "    'Brand_Popularity': ['Popular', 'Popular', 'Very Popular', 'Average', 'Popular', \n",
    "                         'Average', 'Unpopular', 'Average', 'Popular', 'Average'],\n",
    "    'User_Rating': ['Good', 'Fair', 'Good', 'Fair', 'Excellent', \n",
    "                    'Good', 'Fair', 'Good', 'Good', 'Poor'],\n",
    "    'Purchased': ['Yes', 'No', 'Yes', 'No', 'Yes', \n",
    "                  'No', 'No', 'Yes', 'Yes', 'No']\n",
    "}\n",
    "\n",
    "df = pd.DataFrame(data)\n",
    "\n",
    "df['Price_Level'] = df['Price_Level'].astype('category').cat.codes\n",
    "df['Brand_Popularity'] = df['Brand_Popularity'].astype('category').cat.codes\n",
    "df['User_Rating'] = df['User_Rating'].astype('category').cat.codes\n",
    "df['Purchased'] = df['Purchased'].map({'No': 0, 'Yes': 1})\n",
    "\n",
    "X = df[['Price_Level', 'Brand_Popularity', 'User_Rating']]\n",
    "y = df['Purchased']\n",
    "\n",
    "model = CategoricalNB()\n",
    "model.fit(X, y)\n",
    "\n",
    "prediction = model.predict([[1, 2, 1]])  \n",
    "\n",
    "result = \"Yes\" if prediction[0] == 1 else \"No\"\n",
    "print(f\"Prediction: Will the product be purchased? {result}\")\n",
    "\n",
    "y_pred = model.predict(X)\n",
    "\n",
    "conf_matrix = confusion_matrix(y, y_pred)\n",
    "class_report = classification_report(y, y_pred, target_names=['Not Purchased', 'Purchased'])\n",
    "\n",
    "print(\"\\nConfusion Matrix:\")\n",
    "print(conf_matrix)\n",
    "print(\"\\nClassification Report:\")\n",
    "print(class_report)\n"
   ]
  },
  {
   "cell_type": "code",
   "execution_count": null,
   "id": "571724db-693d-4919-9fbf-4154b9cd0593",
   "metadata": {},
   "outputs": [],
   "source": []
  }
 ],
 "metadata": {
  "kernelspec": {
   "display_name": "Python 3 (ipykernel)",
   "language": "python",
   "name": "python3"
  },
  "language_info": {
   "codemirror_mode": {
    "name": "ipython",
    "version": 3
   },
   "file_extension": ".py",
   "mimetype": "text/x-python",
   "name": "python",
   "nbconvert_exporter": "python",
   "pygments_lexer": "ipython3",
   "version": "3.11.7"
  }
 },
 "nbformat": 4,
 "nbformat_minor": 5
}
