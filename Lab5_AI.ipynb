{
 "cells": [
  {
   "cell_type": "code",
   "execution_count": 1,
   "id": "98899e86-3616-415f-b79e-360f5cb49e74",
   "metadata": {},
   "outputs": [
    {
     "name": "stdout",
     "output_type": "stream",
     "text": [
      "Dataset:\n",
      "    Gender  Height  Weight  Foot_Size\n",
      "0    male    6.00     180         12\n",
      "1    male    5.92     190         11\n",
      "2    male    5.58     170         12\n",
      "3    male    5.92     165         10\n",
      "4  female    5.00     100          6\n",
      "5  female    5.50     150          8\n",
      "6  female    5.42     130          7\n",
      "7  female    5.75     150          9\n",
      "Predicted Gender: male\n"
     ]
    },
    {
     "name": "stderr",
     "output_type": "stream",
     "text": [
      "C:\\Users\\SED\\anaconda3\\Lib\\site-packages\\sklearn\\base.py:439: UserWarning: X does not have valid feature names, but DecisionTreeClassifier was fitted with feature names\n",
      "  warnings.warn(\n"
     ]
    }
   ],
   "source": [
    "import pandas as pd\n",
    "from sklearn.tree import DecisionTreeClassifier\n",
    "from sklearn.preprocessing import LabelEncoder\n",
    "\n",
    "file_path = 'lab5_ai_dataset.xlsx'  \n",
    "data = pd.read_excel(file_path, sheet_name='Sheet1')\n",
    "\n",
    "print(\"Dataset:\\n\", data)\n",
    "\n",
    "le = LabelEncoder()\n",
    "data['Gender'] = le.fit_transform(data['Gender'])\n",
    "\n",
    "X = data[['Height', 'Weight', 'Foot_Size']]\n",
    "y = data['Gender']\n",
    "\n",
    "clf = DecisionTreeClassifier()\n",
    "clf.fit(X, y)\n",
    "\n",
    "new_entry = [[5.9, 160, 10]]  \n",
    "predicted_gender = clf.predict(new_entry)\n",
    "\n",
    "predicted_gender_label = le.inverse_transform(predicted_gender)\n",
    "print(\"Predicted Gender:\", predicted_gender_label[0])\n"
   ]
  },
  {
   "cell_type": "code",
   "execution_count": 4,
   "id": "198f003d-b133-4db0-8d19-bc6ff65b73b0",
   "metadata": {},
   "outputs": [
    {
     "name": "stdout",
     "output_type": "stream",
     "text": [
      "Original Dataset:\n",
      "    Gender  Height  Weight  Foot_Size\n",
      "0    male    6.00     180         12\n",
      "1    male    5.92     190         11\n",
      "2    male    5.58     170         12\n",
      "3    male    5.92     165         10\n",
      "4  female    5.00     100          6\n",
      "5  female    5.50     150          8\n",
      "6  female    5.42     130          7\n",
      "7  female    5.75     150          9\n"
     ]
    },
    {
     "ename": "AttributeError",
     "evalue": "'DataFrame' object has no attribute 'append'",
     "output_type": "error",
     "traceback": [
      "\u001b[1;31m---------------------------------------------------------------------------\u001b[0m",
      "\u001b[1;31mAttributeError\u001b[0m                            Traceback (most recent call last)",
      "\u001b[1;32m~\\AppData\\Local\\Temp\\ipykernel_12684\\2273503823.py\u001b[0m in \u001b[0;36m?\u001b[1;34m()\u001b[0m\n\u001b[0;32m      8\u001b[0m \u001b[0mprint\u001b[0m\u001b[1;33m(\u001b[0m\u001b[1;34m\"Original Dataset:\\n\"\u001b[0m\u001b[1;33m,\u001b[0m \u001b[0mdata\u001b[0m\u001b[1;33m)\u001b[0m\u001b[1;33m\u001b[0m\u001b[1;33m\u001b[0m\u001b[0m\n\u001b[0;32m      9\u001b[0m \u001b[1;33m\u001b[0m\u001b[0m\n\u001b[0;32m     10\u001b[0m \u001b[0mnew_entry\u001b[0m \u001b[1;33m=\u001b[0m \u001b[1;33m{\u001b[0m\u001b[1;34m'Gender'\u001b[0m\u001b[1;33m:\u001b[0m \u001b[1;34m'male'\u001b[0m\u001b[1;33m,\u001b[0m \u001b[1;34m'Height'\u001b[0m\u001b[1;33m:\u001b[0m \u001b[1;36m5.9\u001b[0m\u001b[1;33m,\u001b[0m \u001b[1;34m'Weight'\u001b[0m\u001b[1;33m:\u001b[0m \u001b[1;36m160\u001b[0m\u001b[1;33m,\u001b[0m \u001b[1;34m'Foot_Size'\u001b[0m\u001b[1;33m:\u001b[0m \u001b[1;36m10\u001b[0m\u001b[1;33m}\u001b[0m\u001b[1;33m\u001b[0m\u001b[1;33m\u001b[0m\u001b[0m\n\u001b[0;32m     11\u001b[0m \u001b[1;33m\u001b[0m\u001b[0m\n\u001b[1;32m---> 12\u001b[1;33m \u001b[0mdata\u001b[0m \u001b[1;33m=\u001b[0m \u001b[0mdata\u001b[0m\u001b[1;33m.\u001b[0m\u001b[0mappend\u001b[0m\u001b[1;33m(\u001b[0m\u001b[0mnew_entry\u001b[0m\u001b[1;33m,\u001b[0m \u001b[0mignore_index\u001b[0m\u001b[1;33m=\u001b[0m\u001b[1;32mTrue\u001b[0m\u001b[1;33m)\u001b[0m\u001b[1;33m\u001b[0m\u001b[1;33m\u001b[0m\u001b[0m\n\u001b[0m\u001b[0;32m     13\u001b[0m \u001b[1;33m\u001b[0m\u001b[0m\n\u001b[0;32m     14\u001b[0m \u001b[0mprint\u001b[0m\u001b[1;33m(\u001b[0m\u001b[1;34m\"Updated Dataset:\\n\"\u001b[0m\u001b[1;33m,\u001b[0m \u001b[0mdata\u001b[0m\u001b[1;33m)\u001b[0m\u001b[1;33m\u001b[0m\u001b[1;33m\u001b[0m\u001b[0m\n\u001b[0;32m     15\u001b[0m \u001b[1;33m\u001b[0m\u001b[0m\n",
      "\u001b[1;32m~\\anaconda3\\Lib\\site-packages\\pandas\\core\\generic.py\u001b[0m in \u001b[0;36m?\u001b[1;34m(self, name)\u001b[0m\n\u001b[0;32m   6200\u001b[0m             \u001b[1;32mand\u001b[0m \u001b[0mname\u001b[0m \u001b[1;32mnot\u001b[0m \u001b[1;32min\u001b[0m \u001b[0mself\u001b[0m\u001b[1;33m.\u001b[0m\u001b[0m_accessors\u001b[0m\u001b[1;33m\u001b[0m\u001b[1;33m\u001b[0m\u001b[0m\n\u001b[0;32m   6201\u001b[0m             \u001b[1;32mand\u001b[0m \u001b[0mself\u001b[0m\u001b[1;33m.\u001b[0m\u001b[0m_info_axis\u001b[0m\u001b[1;33m.\u001b[0m\u001b[0m_can_hold_identifiers_and_holds_name\u001b[0m\u001b[1;33m(\u001b[0m\u001b[0mname\u001b[0m\u001b[1;33m)\u001b[0m\u001b[1;33m\u001b[0m\u001b[1;33m\u001b[0m\u001b[0m\n\u001b[0;32m   6202\u001b[0m         ):\n\u001b[0;32m   6203\u001b[0m             \u001b[1;32mreturn\u001b[0m \u001b[0mself\u001b[0m\u001b[1;33m[\u001b[0m\u001b[0mname\u001b[0m\u001b[1;33m]\u001b[0m\u001b[1;33m\u001b[0m\u001b[1;33m\u001b[0m\u001b[0m\n\u001b[1;32m-> 6204\u001b[1;33m         \u001b[1;32mreturn\u001b[0m \u001b[0mobject\u001b[0m\u001b[1;33m.\u001b[0m\u001b[0m__getattribute__\u001b[0m\u001b[1;33m(\u001b[0m\u001b[0mself\u001b[0m\u001b[1;33m,\u001b[0m \u001b[0mname\u001b[0m\u001b[1;33m)\u001b[0m\u001b[1;33m\u001b[0m\u001b[1;33m\u001b[0m\u001b[0m\n\u001b[0m",
      "\u001b[1;31mAttributeError\u001b[0m: 'DataFrame' object has no attribute 'append'"
     ]
    }
   ],
   "source": [
    "import pandas as pd\n",
    "from sklearn.tree import DecisionTreeClassifier\n",
    "from sklearn.preprocessing import LabelEncoder\n",
    "\n",
    "file_path = 'lab5_ai_dataset.xlsx' \n",
    "data = pd.read_excel(file_path, sheet_name='Sheet1')\n",
    "\n",
    "print(\"Original Dataset:\\n\", data)\n",
    "\n",
    "new_entry = {'Gender': 'male', 'Height': 5.9, 'Weight': 160, 'Foot_Size': 10}\n",
    "\n",
    "data = data.append(new_entry, ignore_index=True)\n",
    "\n",
    "print(\"Updated Dataset:\\n\", data)\n",
    "\n",
    "le = LabelEncoder()\n",
    "data['Gender'] = le.fit_transform(data['Gender'])\n",
    "\n",
    "X = data[['Height', 'Weight', 'Foot_Size']]\n",
    "y = data['Gender']\n",
    "\n",
    "clf = DecisionTreeClassifier()\n",
    "clf.fit(X, y)\n",
    "\n",
    "new_entry_values = [[5.9, 160, 10]] \n",
    "predicted_gender = clf.predict(new_entry_values)\n",
    "\n",
    "predicted_gender_label = le.inverse_transform(predicted_gender)\n",
    "print(\"Predicted Gender for new entry:\", predicted_gender_label[0])\n"
   ]
  },
  {
   "cell_type": "code",
   "execution_count": 4,
   "id": "1a533486-f5eb-4f7a-bd31-75c84bc92adc",
   "metadata": {},
   "outputs": [
    {
     "name": "stdout",
     "output_type": "stream",
     "text": [
      "Original Dataset:\n",
      "    Gender  Height  Weight  Foot_Size\n",
      "0    male    6.00     180         12\n",
      "1    male    5.92     190         11\n",
      "2    male    5.58     170         12\n",
      "3    male    5.92     165         10\n",
      "4  female    5.00     100          6\n",
      "5  female    5.50     150          8\n",
      "6  female    5.42     130          7\n",
      "7  female    5.75     150          9\n"
     ]
    },
    {
     "ename": "AttributeError",
     "evalue": "'DataFrame' object has no attribute 'append'",
     "output_type": "error",
     "traceback": [
      "\u001b[1;31m---------------------------------------------------------------------------\u001b[0m",
      "\u001b[1;31mAttributeError\u001b[0m                            Traceback (most recent call last)",
      "\u001b[1;32m~\\AppData\\Local\\Temp\\ipykernel_12684\\2273503823.py\u001b[0m in \u001b[0;36m?\u001b[1;34m()\u001b[0m\n\u001b[0;32m      8\u001b[0m \u001b[0mprint\u001b[0m\u001b[1;33m(\u001b[0m\u001b[1;34m\"Original Dataset:\\n\"\u001b[0m\u001b[1;33m,\u001b[0m \u001b[0mdata\u001b[0m\u001b[1;33m)\u001b[0m\u001b[1;33m\u001b[0m\u001b[1;33m\u001b[0m\u001b[0m\n\u001b[0;32m      9\u001b[0m \u001b[1;33m\u001b[0m\u001b[0m\n\u001b[0;32m     10\u001b[0m \u001b[0mnew_entry\u001b[0m \u001b[1;33m=\u001b[0m \u001b[1;33m{\u001b[0m\u001b[1;34m'Gender'\u001b[0m\u001b[1;33m:\u001b[0m \u001b[1;34m'male'\u001b[0m\u001b[1;33m,\u001b[0m \u001b[1;34m'Height'\u001b[0m\u001b[1;33m:\u001b[0m \u001b[1;36m5.9\u001b[0m\u001b[1;33m,\u001b[0m \u001b[1;34m'Weight'\u001b[0m\u001b[1;33m:\u001b[0m \u001b[1;36m160\u001b[0m\u001b[1;33m,\u001b[0m \u001b[1;34m'Foot_Size'\u001b[0m\u001b[1;33m:\u001b[0m \u001b[1;36m10\u001b[0m\u001b[1;33m}\u001b[0m\u001b[1;33m\u001b[0m\u001b[1;33m\u001b[0m\u001b[0m\n\u001b[0;32m     11\u001b[0m \u001b[1;33m\u001b[0m\u001b[0m\n\u001b[1;32m---> 12\u001b[1;33m \u001b[0mdata\u001b[0m \u001b[1;33m=\u001b[0m \u001b[0mdata\u001b[0m\u001b[1;33m.\u001b[0m\u001b[0mappend\u001b[0m\u001b[1;33m(\u001b[0m\u001b[0mnew_entry\u001b[0m\u001b[1;33m,\u001b[0m \u001b[0mignore_index\u001b[0m\u001b[1;33m=\u001b[0m\u001b[1;32mTrue\u001b[0m\u001b[1;33m)\u001b[0m\u001b[1;33m\u001b[0m\u001b[1;33m\u001b[0m\u001b[0m\n\u001b[0m\u001b[0;32m     13\u001b[0m \u001b[1;33m\u001b[0m\u001b[0m\n\u001b[0;32m     14\u001b[0m \u001b[0mprint\u001b[0m\u001b[1;33m(\u001b[0m\u001b[1;34m\"Updated Dataset:\\n\"\u001b[0m\u001b[1;33m,\u001b[0m \u001b[0mdata\u001b[0m\u001b[1;33m)\u001b[0m\u001b[1;33m\u001b[0m\u001b[1;33m\u001b[0m\u001b[0m\n\u001b[0;32m     15\u001b[0m \u001b[1;33m\u001b[0m\u001b[0m\n",
      "\u001b[1;32m~\\anaconda3\\Lib\\site-packages\\pandas\\core\\generic.py\u001b[0m in \u001b[0;36m?\u001b[1;34m(self, name)\u001b[0m\n\u001b[0;32m   6200\u001b[0m             \u001b[1;32mand\u001b[0m \u001b[0mname\u001b[0m \u001b[1;32mnot\u001b[0m \u001b[1;32min\u001b[0m \u001b[0mself\u001b[0m\u001b[1;33m.\u001b[0m\u001b[0m_accessors\u001b[0m\u001b[1;33m\u001b[0m\u001b[1;33m\u001b[0m\u001b[0m\n\u001b[0;32m   6201\u001b[0m             \u001b[1;32mand\u001b[0m \u001b[0mself\u001b[0m\u001b[1;33m.\u001b[0m\u001b[0m_info_axis\u001b[0m\u001b[1;33m.\u001b[0m\u001b[0m_can_hold_identifiers_and_holds_name\u001b[0m\u001b[1;33m(\u001b[0m\u001b[0mname\u001b[0m\u001b[1;33m)\u001b[0m\u001b[1;33m\u001b[0m\u001b[1;33m\u001b[0m\u001b[0m\n\u001b[0;32m   6202\u001b[0m         ):\n\u001b[0;32m   6203\u001b[0m             \u001b[1;32mreturn\u001b[0m \u001b[0mself\u001b[0m\u001b[1;33m[\u001b[0m\u001b[0mname\u001b[0m\u001b[1;33m]\u001b[0m\u001b[1;33m\u001b[0m\u001b[1;33m\u001b[0m\u001b[0m\n\u001b[1;32m-> 6204\u001b[1;33m         \u001b[1;32mreturn\u001b[0m \u001b[0mobject\u001b[0m\u001b[1;33m.\u001b[0m\u001b[0m__getattribute__\u001b[0m\u001b[1;33m(\u001b[0m\u001b[0mself\u001b[0m\u001b[1;33m,\u001b[0m \u001b[0mname\u001b[0m\u001b[1;33m)\u001b[0m\u001b[1;33m\u001b[0m\u001b[1;33m\u001b[0m\u001b[0m\n\u001b[0m",
      "\u001b[1;31mAttributeError\u001b[0m: 'DataFrame' object has no attribute 'append'"
     ]
    }
   ],
   "source": [
    "import pandas as pd\n",
    "from sklearn.tree import DecisionTreeClassifier\n",
    "from sklearn.preprocessing import LabelEncoder\n",
    "\n",
    "file_path = 'lab5_ai_dataset.xlsx' \n",
    "data = pd.read_excel(file_path, sheet_name='Sheet1')\n",
    "\n",
    "print(\"Original Dataset:\\n\", data)\n",
    "\n",
    "new_entry = {'Gender': 'male', 'Height': 5.9, 'Weight': 160, 'Foot_Size': 10}\n",
    "\n",
    "data = data.append(new_entry, ignore_index=True)\n",
    "\n",
    "print(\"Updated Dataset:\\n\", data)\n",
    "\n",
    "le = LabelEncoder()\n",
    "data['Gender'] = le.fit_transform(data['Gender'])\n",
    "\n",
    "X = data[['Height', 'Weight', 'Foot_Size']]\n",
    "y = data['Gender']\n",
    "\n",
    "clf = DecisionTreeClassifier()\n",
    "clf.fit(X, y)\n",
    "\n",
    "new_entry_values = [[5.9, 160, 10]] \n",
    "predicted_gender = clf.predict(new_entry_values)\n",
    "\n",
    "predicted_gender_label = le.inverse_transform(predicted_gender)\n",
    "print(\"Predicted Gender for new entry:\", predicted_gender_label[0])\n"
   ]
  },
  {
   "cell_type": "code",
   "execution_count": 5,
   "id": "9656223a-12e1-4e10-b1df-f86dede54804",
   "metadata": {},
   "outputs": [
    {
     "name": "stdout",
     "output_type": "stream",
     "text": [
      "Predicted Gender: male\n"
     ]
    }
   ],
   "source": [
    "import numpy as np\n",
    "from sklearn.tree import DecisionTreeClassifier\n",
    "from sklearn.preprocessing import LabelEncoder\n",
    "\n",
    "data = [\n",
    "    ['male', 6.00, 180, 12],\n",
    "    ['male', 5.92, 190, 11],\n",
    "    ['male', 5.58, 170, 12],\n",
    "    ['male', 5.92, 165, 10],\n",
    "    ['female', 5.00, 100, 6],\n",
    "    ['female', 5.50, 150, 8],\n",
    "    ['female', 5.42, 130, 7],\n",
    "    ['female', 5.75, 150, 9]\n",
    "]\n",
    "\n",
    "data = np.array(data, dtype=object)\n",
    "\n",
    "X = data[:, 1:].astype(float) \n",
    "y = data[:, 0] \n",
    "\n",
    "le = LabelEncoder()\n",
    "y_encoded = le.fit_transform(y)\n",
    "\n",
    "clf = DecisionTreeClassifier()\n",
    "clf.fit(X, y_encoded)\n",
    "\n",
    "new_entry = np.array([[5.9, 160, 10]]) \n",
    "predicted_gender = clf.predict(new_entry)\n",
    "\n",
    "predicted_gender_label = le.inverse_transform(predicted_gender)\n",
    "print(\"Predicted Gender:\", predicted_gender_label[0])\n"
   ]
  },
  {
   "cell_type": "code",
   "execution_count": 6,
   "id": "bb71f470-98ee-471c-8b62-4a926d775650",
   "metadata": {},
   "outputs": [
    {
     "name": "stdout",
     "output_type": "stream",
     "text": [
      "Original Dataset:\n",
      "    Gender  Height  Weight  Foot_Size\n",
      "0    male    6.00     180         12\n",
      "1    male    5.92     190         11\n",
      "2    male    5.58     170         12\n",
      "3    male    5.92     165         10\n",
      "4  female    5.00     100          6\n",
      "5  female    5.50     150          8\n",
      "6  female    5.42     130          7\n",
      "7  female    5.75     150          9\n",
      "Updated Dataset:\n",
      "    Gender  Height  Weight  Foot_Size\n",
      "0    male    6.00     180         12\n",
      "1    male    5.92     190         11\n",
      "2    male    5.58     170         12\n",
      "3    male    5.92     165         10\n",
      "4  female    5.00     100          6\n",
      "5  female    5.50     150          8\n",
      "6  female    5.42     130          7\n",
      "7  female    5.75     150          9\n",
      "8    male    5.90     160         10\n",
      "Predicted Gender for new entry: male\n"
     ]
    },
    {
     "name": "stderr",
     "output_type": "stream",
     "text": [
      "C:\\Users\\SED\\anaconda3\\Lib\\site-packages\\sklearn\\base.py:439: UserWarning: X does not have valid feature names, but DecisionTreeClassifier was fitted with feature names\n",
      "  warnings.warn(\n"
     ]
    }
   ],
   "source": [
    "import pandas as pd\n",
    "from sklearn.tree import DecisionTreeClassifier\n",
    "from sklearn.preprocessing import LabelEncoder\n",
    "\n",
    "file_path = 'lab5_ai_dataset.xlsx' \n",
    "data = pd.read_excel(file_path, sheet_name='Sheet1')\n",
    "\n",
    "print(\"Original Dataset:\\n\", data)\n",
    "\n",
    "new_entry = pd.DataFrame({'Gender': ['male'], 'Height': [5.9], 'Weight': [160], 'Foot_Size': [10]})\n",
    "\n",
    "data = pd.concat([data, new_entry], ignore_index=True)\n",
    "\n",
    "print(\"Updated Dataset:\\n\", data)\n",
    "\n",
    "le = LabelEncoder()\n",
    "data['Gender'] = le.fit_transform(data['Gender'])\n",
    "\n",
    "X = data[['Height', 'Weight', 'Foot_Size']]\n",
    "y = data['Gender']\n",
    "\n",
    "clf = DecisionTreeClassifier()\n",
    "clf.fit(X, y)\n",
    "\n",
    "new_entry_values = [[5.9, 160, 10]] \n",
    "predicted_gender = clf.predict(new_entry_values)\n",
    "\n",
    "predicted_gender_label = le.inverse_transform(predicted_gender)\n",
    "print(\"Predicted Gender for new entry:\", predicted_gender_label[0])\n"
   ]
  },
  {
   "cell_type": "code",
   "execution_count": 7,
   "id": "c5a3133e-7bcc-45b9-a819-a2aa23255332",
   "metadata": {},
   "outputs": [
    {
     "name": "stdout",
     "output_type": "stream",
     "text": [
      "Original Dataset:\n",
      "            Product Price Level Brand Popularity User Rating Purchased\n",
      "0   Vacuum Cleaner        High          Popular        Good       Yes\n",
      "1     Coffee Maker      Medium          Popular        Fair        No\n",
      "2        Air Fryer      Medium     Very Popular        Good       Yes\n",
      "3          Blender         Low          Average        Fair        No\n",
      "4   Microwave Oven        High          Popular   Excellent       Yes\n",
      "5  Electric Kettle         Low          Average        Good        No\n",
      "6          Toaster         Low        Unpopular        Fair        No\n",
      "7       Hair Dryer         Low          Average        Good       Yes\n",
      "8      Rice Cooker      Medium          Popular        Good       Yes\n",
      "9           Juicer         Low          Average        Poor        No\n"
     ]
    },
    {
     "ename": "ValueError",
     "evalue": "y contains previously unseen labels: 'Medium'",
     "output_type": "error",
     "traceback": [
      "\u001b[1;31m---------------------------------------------------------------------------\u001b[0m",
      "\u001b[1;31mKeyError\u001b[0m                                  Traceback (most recent call last)",
      "File \u001b[1;32m~\\anaconda3\\Lib\\site-packages\\sklearn\\utils\\_encode.py:224\u001b[0m, in \u001b[0;36m_encode\u001b[1;34m(values, uniques, check_unknown)\u001b[0m\n\u001b[0;32m    223\u001b[0m \u001b[38;5;28;01mtry\u001b[39;00m:\n\u001b[1;32m--> 224\u001b[0m     \u001b[38;5;28;01mreturn\u001b[39;00m _map_to_integer(values, uniques)\n\u001b[0;32m    225\u001b[0m \u001b[38;5;28;01mexcept\u001b[39;00m \u001b[38;5;167;01mKeyError\u001b[39;00m \u001b[38;5;28;01mas\u001b[39;00m e:\n",
      "File \u001b[1;32m~\\anaconda3\\Lib\\site-packages\\sklearn\\utils\\_encode.py:164\u001b[0m, in \u001b[0;36m_map_to_integer\u001b[1;34m(values, uniques)\u001b[0m\n\u001b[0;32m    163\u001b[0m table \u001b[38;5;241m=\u001b[39m _nandict({val: i \u001b[38;5;28;01mfor\u001b[39;00m i, val \u001b[38;5;129;01min\u001b[39;00m \u001b[38;5;28menumerate\u001b[39m(uniques)})\n\u001b[1;32m--> 164\u001b[0m \u001b[38;5;28;01mreturn\u001b[39;00m np\u001b[38;5;241m.\u001b[39marray([table[v] \u001b[38;5;28;01mfor\u001b[39;00m v \u001b[38;5;129;01min\u001b[39;00m values])\n",
      "File \u001b[1;32m~\\anaconda3\\Lib\\site-packages\\sklearn\\utils\\_encode.py:164\u001b[0m, in \u001b[0;36m<listcomp>\u001b[1;34m(.0)\u001b[0m\n\u001b[0;32m    163\u001b[0m table \u001b[38;5;241m=\u001b[39m _nandict({val: i \u001b[38;5;28;01mfor\u001b[39;00m i, val \u001b[38;5;129;01min\u001b[39;00m \u001b[38;5;28menumerate\u001b[39m(uniques)})\n\u001b[1;32m--> 164\u001b[0m \u001b[38;5;28;01mreturn\u001b[39;00m np\u001b[38;5;241m.\u001b[39marray([table[v] \u001b[38;5;28;01mfor\u001b[39;00m v \u001b[38;5;129;01min\u001b[39;00m values])\n",
      "File \u001b[1;32m~\\anaconda3\\Lib\\site-packages\\sklearn\\utils\\_encode.py:158\u001b[0m, in \u001b[0;36m_nandict.__missing__\u001b[1;34m(self, key)\u001b[0m\n\u001b[0;32m    157\u001b[0m     \u001b[38;5;28;01mreturn\u001b[39;00m \u001b[38;5;28mself\u001b[39m\u001b[38;5;241m.\u001b[39mnan_value\n\u001b[1;32m--> 158\u001b[0m \u001b[38;5;28;01mraise\u001b[39;00m \u001b[38;5;167;01mKeyError\u001b[39;00m(key)\n",
      "\u001b[1;31mKeyError\u001b[0m: 'Medium'",
      "\nDuring handling of the above exception, another exception occurred:\n",
      "\u001b[1;31mValueError\u001b[0m                                Traceback (most recent call last)",
      "Cell \u001b[1;32mIn[7], line 32\u001b[0m\n\u001b[0;32m     28\u001b[0m clf\u001b[38;5;241m.\u001b[39mfit(X, y)\n\u001b[0;32m     30\u001b[0m new_entry \u001b[38;5;241m=\u001b[39m {\u001b[38;5;124m'\u001b[39m\u001b[38;5;124mPrice Level\u001b[39m\u001b[38;5;124m'\u001b[39m: \u001b[38;5;124m'\u001b[39m\u001b[38;5;124mMedium\u001b[39m\u001b[38;5;124m'\u001b[39m, \u001b[38;5;124m'\u001b[39m\u001b[38;5;124mBrand Popularity\u001b[39m\u001b[38;5;124m'\u001b[39m: \u001b[38;5;124m'\u001b[39m\u001b[38;5;124mPopular\u001b[39m\u001b[38;5;124m'\u001b[39m, \u001b[38;5;124m'\u001b[39m\u001b[38;5;124mUser Rating\u001b[39m\u001b[38;5;124m'\u001b[39m: \u001b[38;5;124m'\u001b[39m\u001b[38;5;124mGood\u001b[39m\u001b[38;5;124m'\u001b[39m}\n\u001b[1;32m---> 32\u001b[0m new_entry[\u001b[38;5;124m'\u001b[39m\u001b[38;5;124mPrice Level\u001b[39m\u001b[38;5;124m'\u001b[39m] \u001b[38;5;241m=\u001b[39m le\u001b[38;5;241m.\u001b[39mtransform([new_entry[\u001b[38;5;124m'\u001b[39m\u001b[38;5;124mPrice Level\u001b[39m\u001b[38;5;124m'\u001b[39m]])[\u001b[38;5;241m0\u001b[39m]\n\u001b[0;32m     33\u001b[0m new_entry[\u001b[38;5;124m'\u001b[39m\u001b[38;5;124mBrand Popularity\u001b[39m\u001b[38;5;124m'\u001b[39m] \u001b[38;5;241m=\u001b[39m le\u001b[38;5;241m.\u001b[39mtransform([new_entry[\u001b[38;5;124m'\u001b[39m\u001b[38;5;124mBrand Popularity\u001b[39m\u001b[38;5;124m'\u001b[39m]])[\u001b[38;5;241m0\u001b[39m]\n\u001b[0;32m     34\u001b[0m new_entry[\u001b[38;5;124m'\u001b[39m\u001b[38;5;124mUser Rating\u001b[39m\u001b[38;5;124m'\u001b[39m] \u001b[38;5;241m=\u001b[39m le\u001b[38;5;241m.\u001b[39mtransform([new_entry[\u001b[38;5;124m'\u001b[39m\u001b[38;5;124mUser Rating\u001b[39m\u001b[38;5;124m'\u001b[39m]])[\u001b[38;5;241m0\u001b[39m]\n",
      "File \u001b[1;32m~\\anaconda3\\Lib\\site-packages\\sklearn\\utils\\_set_output.py:140\u001b[0m, in \u001b[0;36m_wrap_method_output.<locals>.wrapped\u001b[1;34m(self, X, *args, **kwargs)\u001b[0m\n\u001b[0;32m    138\u001b[0m \u001b[38;5;129m@wraps\u001b[39m(f)\n\u001b[0;32m    139\u001b[0m \u001b[38;5;28;01mdef\u001b[39;00m \u001b[38;5;21mwrapped\u001b[39m(\u001b[38;5;28mself\u001b[39m, X, \u001b[38;5;241m*\u001b[39margs, \u001b[38;5;241m*\u001b[39m\u001b[38;5;241m*\u001b[39mkwargs):\n\u001b[1;32m--> 140\u001b[0m     data_to_wrap \u001b[38;5;241m=\u001b[39m f(\u001b[38;5;28mself\u001b[39m, X, \u001b[38;5;241m*\u001b[39margs, \u001b[38;5;241m*\u001b[39m\u001b[38;5;241m*\u001b[39mkwargs)\n\u001b[0;32m    141\u001b[0m     \u001b[38;5;28;01mif\u001b[39;00m \u001b[38;5;28misinstance\u001b[39m(data_to_wrap, \u001b[38;5;28mtuple\u001b[39m):\n\u001b[0;32m    142\u001b[0m         \u001b[38;5;66;03m# only wrap the first output for cross decomposition\u001b[39;00m\n\u001b[0;32m    143\u001b[0m         \u001b[38;5;28;01mreturn\u001b[39;00m (\n\u001b[0;32m    144\u001b[0m             _wrap_data_with_container(method, data_to_wrap[\u001b[38;5;241m0\u001b[39m], X, \u001b[38;5;28mself\u001b[39m),\n\u001b[0;32m    145\u001b[0m             \u001b[38;5;241m*\u001b[39mdata_to_wrap[\u001b[38;5;241m1\u001b[39m:],\n\u001b[0;32m    146\u001b[0m         )\n",
      "File \u001b[1;32m~\\anaconda3\\Lib\\site-packages\\sklearn\\preprocessing\\_label.py:139\u001b[0m, in \u001b[0;36mLabelEncoder.transform\u001b[1;34m(self, y)\u001b[0m\n\u001b[0;32m    136\u001b[0m \u001b[38;5;28;01mif\u001b[39;00m _num_samples(y) \u001b[38;5;241m==\u001b[39m \u001b[38;5;241m0\u001b[39m:\n\u001b[0;32m    137\u001b[0m     \u001b[38;5;28;01mreturn\u001b[39;00m np\u001b[38;5;241m.\u001b[39marray([])\n\u001b[1;32m--> 139\u001b[0m \u001b[38;5;28;01mreturn\u001b[39;00m _encode(y, uniques\u001b[38;5;241m=\u001b[39m\u001b[38;5;28mself\u001b[39m\u001b[38;5;241m.\u001b[39mclasses_)\n",
      "File \u001b[1;32m~\\anaconda3\\Lib\\site-packages\\sklearn\\utils\\_encode.py:226\u001b[0m, in \u001b[0;36m_encode\u001b[1;34m(values, uniques, check_unknown)\u001b[0m\n\u001b[0;32m    224\u001b[0m         \u001b[38;5;28;01mreturn\u001b[39;00m _map_to_integer(values, uniques)\n\u001b[0;32m    225\u001b[0m     \u001b[38;5;28;01mexcept\u001b[39;00m \u001b[38;5;167;01mKeyError\u001b[39;00m \u001b[38;5;28;01mas\u001b[39;00m e:\n\u001b[1;32m--> 226\u001b[0m         \u001b[38;5;28;01mraise\u001b[39;00m \u001b[38;5;167;01mValueError\u001b[39;00m(\u001b[38;5;124mf\u001b[39m\u001b[38;5;124m\"\u001b[39m\u001b[38;5;124my contains previously unseen labels: \u001b[39m\u001b[38;5;132;01m{\u001b[39;00m\u001b[38;5;28mstr\u001b[39m(e)\u001b[38;5;132;01m}\u001b[39;00m\u001b[38;5;124m\"\u001b[39m)\n\u001b[0;32m    227\u001b[0m \u001b[38;5;28;01melse\u001b[39;00m:\n\u001b[0;32m    228\u001b[0m     \u001b[38;5;28;01mif\u001b[39;00m check_unknown:\n",
      "\u001b[1;31mValueError\u001b[0m: y contains previously unseen labels: 'Medium'"
     ]
    }
   ],
   "source": [
    "import pandas as pd\n",
    "from sklearn.tree import DecisionTreeClassifier\n",
    "from sklearn.preprocessing import LabelEncoder\n",
    "\n",
    "data = {\n",
    "    'Product': ['Vacuum Cleaner', 'Coffee Maker', 'Air Fryer', 'Blender', 'Microwave Oven', \n",
    "                'Electric Kettle', 'Toaster', 'Hair Dryer', 'Rice Cooker', 'Juicer'],\n",
    "    'Price Level': ['High', 'Medium', 'Medium', 'Low', 'High', 'Low', 'Low', 'Low', 'Medium', 'Low'],\n",
    "    'Brand Popularity': ['Popular', 'Popular', 'Very Popular', 'Average', 'Popular', 'Average', 'Unpopular', 'Average', 'Popular', 'Average'],\n",
    "    'User Rating': ['Good', 'Fair', 'Good', 'Fair', 'Excellent', 'Good', 'Fair', 'Good', 'Good', 'Poor'],\n",
    "    'Purchased': ['Yes', 'No', 'Yes', 'No', 'Yes', 'No', 'No', 'Yes', 'Yes', 'No']\n",
    "}\n",
    "\n",
    "df = pd.DataFrame(data)\n",
    "\n",
    "print(\"Original Dataset:\\n\", df)\n",
    "\n",
    "le = LabelEncoder()\n",
    "df['Price Level'] = le.fit_transform(df['Price Level'])\n",
    "df['Brand Popularity'] = le.fit_transform(df['Brand Popularity'])\n",
    "df['User Rating'] = le.fit_transform(df['User Rating'])\n",
    "df['Purchased'] = le.fit_transform(df['Purchased'])\n",
    "\n",
    "X = df[['Price Level', 'Brand Popularity', 'User Rating']]\n",
    "y = df['Purchased']\n",
    "\n",
    "clf = DecisionTreeClassifier()\n",
    "clf.fit(X, y)\n",
    "\n",
    "new_entry = {'Price Level': 'Medium', 'Brand Popularity': 'Popular', 'User Rating': 'Good'}\n",
    "\n",
    "new_entry['Price Level'] = le.transform([new_entry['Price Level']])[0]\n",
    "new_entry['Brand Popularity'] = le.transform([new_entry['Brand Popularity']])[0]\n",
    "new_entry['User Rating'] = le.transform([new_entry['User Rating']])[0]\n",
    "\n",
    "new_entry_values = [[new_entry['Price Level'], new_entry['Brand Popularity'], new_entry['User Rating']]]\n",
    "\n",
    "predicted_purchase = clf.predict(new_entry_values)\n",
    "\n",
    "predicted_purchase_label = le.inverse_transform(predicted_purchase)\n",
    "print(\"Predicted Purchase Decision for the new entry:\", predicted_purchase_label[0])\n"
   ]
  },
  {
   "cell_type": "code",
   "execution_count": 8,
   "id": "caa36f6a-5260-4791-85d7-a06f05fff709",
   "metadata": {},
   "outputs": [
    {
     "name": "stdout",
     "output_type": "stream",
     "text": [
      "Original Dataset:\n",
      "            Product Price Level Brand Popularity User Rating Purchased\n",
      "0   Vacuum Cleaner        High          Popular        Good       Yes\n",
      "1     Coffee Maker      Medium          Popular        Fair        No\n",
      "2        Air Fryer      Medium     Very Popular        Good       Yes\n",
      "3          Blender         Low          Average        Fair        No\n",
      "4   Microwave Oven        High          Popular   Excellent       Yes\n",
      "5  Electric Kettle         Low          Average        Good        No\n",
      "6          Toaster         Low        Unpopular        Fair        No\n",
      "7       Hair Dryer         Low          Average        Good       Yes\n",
      "8      Rice Cooker      Medium          Popular        Good       Yes\n",
      "9           Juicer         Low          Average        Poor        No\n",
      "Predicted Purchase Decision for the new entry: Yes\n"
     ]
    },
    {
     "name": "stderr",
     "output_type": "stream",
     "text": [
      "C:\\Users\\SED\\anaconda3\\Lib\\site-packages\\sklearn\\base.py:439: UserWarning: X does not have valid feature names, but DecisionTreeClassifier was fitted with feature names\n",
      "  warnings.warn(\n"
     ]
    }
   ],
   "source": [
    "import pandas as pd\n",
    "from sklearn.tree import DecisionTreeClassifier\n",
    "from sklearn.preprocessing import LabelEncoder\n",
    "\n",
    "data = {\n",
    "    'Product': ['Vacuum Cleaner', 'Coffee Maker', 'Air Fryer', 'Blender', 'Microwave Oven', \n",
    "                'Electric Kettle', 'Toaster', 'Hair Dryer', 'Rice Cooker', 'Juicer'],\n",
    "    'Price Level': ['High', 'Medium', 'Medium', 'Low', 'High', 'Low', 'Low', 'Low', 'Medium', 'Low'],\n",
    "    'Brand Popularity': ['Popular', 'Popular', 'Very Popular', 'Average', 'Popular', 'Average', 'Unpopular', 'Average', 'Popular', 'Average'],\n",
    "    'User Rating': ['Good', 'Fair', 'Good', 'Fair', 'Excellent', 'Good', 'Fair', 'Good', 'Good', 'Poor'],\n",
    "    'Purchased': ['Yes', 'No', 'Yes', 'No', 'Yes', 'No', 'No', 'Yes', 'Yes', 'No']\n",
    "}\n",
    "\n",
    "df = pd.DataFrame(data)\n",
    "\n",
    "print(\"Original Dataset:\\n\", df)\n",
    "\n",
    "le_price = LabelEncoder()\n",
    "le_brand = LabelEncoder()\n",
    "le_rating = LabelEncoder()\n",
    "le_purchase = LabelEncoder()\n",
    "\n",
    "df['Price Level'] = le_price.fit_transform(df['Price Level'])\n",
    "df['Brand Popularity'] = le_brand.fit_transform(df['Brand Popularity'])\n",
    "df['User Rating'] = le_rating.fit_transform(df['User Rating'])\n",
    "df['Purchased'] = le_purchase.fit_transform(df['Purchased'])\n",
    "\n",
    "X = df[['Price Level', 'Brand Popularity', 'User Rating']]\n",
    "y = df['Purchased']\n",
    "\n",
    "clf = DecisionTreeClassifier()\n",
    "clf.fit(X, y)\n",
    "\n",
    "new_entry = {'Price Level': 'Medium', 'Brand Popularity': 'Popular', 'User Rating': 'Good'}\n",
    "\n",
    "new_entry['Price Level'] = le_price.transform([new_entry['Price Level']])[0]\n",
    "new_entry['Brand Popularity'] = le_brand.transform([new_entry['Brand Popularity']])[0]\n",
    "new_entry['User Rating'] = le_rating.transform([new_entry['User Rating']])[0]\n",
    "\n",
    "new_entry_values = [[new_entry['Price Level'], new_entry['Brand Popularity'], new_entry['User Rating']]]\n",
    "\n",
    "predicted_purchase = clf.predict(new_entry_values)\n",
    "\n",
    "predicted_purchase_label = le_purchase.inverse_transform(predicted_purchase)\n",
    "print(\"Predicted Purchase Decision for the new entry:\", predicted_purchase_label[0])\n"
   ]
  },
  {
   "cell_type": "code",
   "execution_count": null,
   "id": "545b3a4d-98ea-4739-aa77-c02435cea11b",
   "metadata": {},
   "outputs": [],
   "source": []
  }
 ],
 "metadata": {
  "kernelspec": {
   "display_name": "Python 3 (ipykernel)",
   "language": "python",
   "name": "python3"
  },
  "language_info": {
   "codemirror_mode": {
    "name": "ipython",
    "version": 3
   },
   "file_extension": ".py",
   "mimetype": "text/x-python",
   "name": "python",
   "nbconvert_exporter": "python",
   "pygments_lexer": "ipython3",
   "version": "3.11.7"
  }
 },
 "nbformat": 4,
 "nbformat_minor": 5
}
